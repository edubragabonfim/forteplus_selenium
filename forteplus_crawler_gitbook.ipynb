{
 "cells": [
  {
   "cell_type": "code",
   "execution_count": 13,
   "id": "f7f622f4",
   "metadata": {},
   "outputs": [],
   "source": [
    "# Importing Libraries\n",
    "from selenium import webdriver\n",
    "from selenium.webdriver.common.by import By\n",
    "from selenium.webdriver.chrome.options import Options\n",
    "from selenium.webdriver.support.ui import WebDriverWait\n",
    "from selenium.webdriver.support import expected_conditions as EC"
   ]
  },
  {
   "cell_type": "code",
   "execution_count": 14,
   "id": "20d1ba93",
   "metadata": {},
   "outputs": [],
   "source": [
    "# Setting Chrome Options\n",
    "chrome_options = Options()\n",
    "chrome_options.add_argument(\"--start-maximized\")"
   ]
  },
  {
   "cell_type": "code",
   "execution_count": null,
   "id": "4dbbeb09",
   "metadata": {},
   "outputs": [],
   "source": [
    "# Variables\n",
    "link = 'https://forteplus-sistemas.gitbook.io/forteplus-sistemas/vendas/nota-fiscal-de-saida-nfe-nfce'"
   ]
  },
  {
   "cell_type": "code",
   "execution_count": null,
   "id": "6b677789",
   "metadata": {},
   "outputs": [],
   "source": [
    "def setup(link):\n",
    "    driver = webdriver.Chrome(options=chrome_options)\n",
    "    driver.get(link)\n",
    "    return driver\n",
    "\n",
    "\n",
    "def teardown(driver):\n",
    "    driver.quit()"
   ]
  },
  {
   "cell_type": "code",
   "execution_count": null,
   "id": "a6ed0f36",
   "metadata": {},
   "outputs": [],
   "source": [
    "# instructions\n",
    "'''\n",
    "Principais formas:\n",
    "\n",
    "By.ID: driver.find_element(By.ID, \"meu-id\")\n",
    "By.NAME: driver.find_element(By.NAME, \"q\")\n",
    "By.CLASS_NAME: driver.find_element(By.CLASS_NAME, \"btn\")\n",
    "By.TAG_NAME: driver.find_element(By.TAG_NAME, \"h1\")\n",
    "By.LINK_TEXT / PARTIAL_LINK_TEXT\n",
    "By.CSS_SELECTOR: driver.find_element(By.CSS_SELECTOR, \"div.card > a.btn\")\n",
    "By.XPATH: driver.find_element(By.XPATH, \"//div[@class='card']//a[contains(@class,'btn')]\")\n",
    "'''"
   ]
  },
  {
   "cell_type": "code",
   "execution_count": null,
   "id": "db20d0dc",
   "metadata": {},
   "outputs": [
    {
     "name": "stdout",
     "output_type": "stream",
     "text": [
      "Nota Fiscal de Saída (NFe/NFCe) | FortePlus Sistemas\n",
      "https://forteplus-sistemas.gitbook.io/forteplus-sistemas/vendas/nota-fiscal-de-saida-nfe-nfce\n"
     ]
    }
   ],
   "source": [
    "title = driver.title\n",
    "url = driver.current_url\n",
    "\n",
    "# https://www.selenium.dev/documentation/webdriver/interactions/\n",
    "print(title)\n",
    "print(url)\n",
    "\n",
    "wait = WebDriverWait(driver, 10)\n",
    "\n",
    "sales_section_button = wait.until(EC.visibility_of_element_located((By.TAG_NAME, \"h1\")))\n"
   ]
  },
  {
   "cell_type": "code",
   "execution_count": 17,
   "id": "c2652cb7",
   "metadata": {},
   "outputs": [],
   "source": [
    "# driver.quit()"
   ]
  }
 ],
 "metadata": {
  "kernelspec": {
   "display_name": ".venv",
   "language": "python",
   "name": "python3"
  },
  "language_info": {
   "codemirror_mode": {
    "name": "ipython",
    "version": 3
   },
   "file_extension": ".py",
   "mimetype": "text/x-python",
   "name": "python",
   "nbconvert_exporter": "python",
   "pygments_lexer": "ipython3",
   "version": "3.13.1"
  }
 },
 "nbformat": 4,
 "nbformat_minor": 5
}
